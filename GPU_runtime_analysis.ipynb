{
 "cells": [
  {
   "cell_type": "code",
   "execution_count": 188,
   "metadata": {},
   "outputs": [],
   "source": [
    "import pandas as pd \n",
    "from sklearn import linear_model \n",
    "from sklearn.model_selection import train_test_split\n",
    "import math \n",
    "from scipy.stats import iqr\n",
    "import numpy as np\n",
    "import seaborn as sbn\n",
    "from sklearn.metrics import mean_squared_error\n",
    "from scipy.stats import boxcox \n",
    "from scipy.stats import shapiro\n",
    "from sklearn.metrics import r2_score\n",
    "import matplotlib.pyplot as plt"
   ]
  },
  {
   "cell_type": "markdown",
   "metadata": {},
   "source": [
    "Reading Dataset and organizing the run time"
   ]
  },
  {
   "cell_type": "code",
   "execution_count": 158,
   "metadata": {},
   "outputs": [],
   "source": [
    "data_frame=pd.read_csv ('sgemm_product.csv') \n",
    "data_frame=data_frame.assign(AverageRunTime=data_frame.loc[:, ['Run1 (ms)', 'Run2 (ms)', 'Run3 (ms)', 'Run4 (ms)']].mean(axis=1))\n",
    "data_frame= data_frame.drop(columns= ['Run1 (ms)', 'Run2 (ms)', 'Run3 (ms)', 'Run4 (ms)'])"
   ]
  },
  {
   "cell_type": "markdown",
   "metadata": {},
   "source": [
    "DATA cleaning "
   ]
  },
  {
   "cell_type": "code",
   "execution_count": 159,
   "metadata": {},
   "outputs": [
    {
     "name": "stdout",
     "output_type": "stream",
     "text": [
      "False\n"
     ]
    }
   ],
   "source": [
    "#fill up any holes in the dataset \n",
    "# all of the independent variables: MWG, NWG, KWG, MDIMC, NDIM, MDIMA , NDIMB, KWI, VWM, VWN, STRM, STRN, SA ,SB\n",
    "bool1=data_frame.isnull().values.any()\n",
    "print(bool1)\n",
    "#no holes we need to fill "
   ]
  },
  {
   "cell_type": "code",
   "execution_count": 151,
   "metadata": {},
   "outputs": [
    {
     "name": "stdout",
     "output_type": "stream",
     "text": [
      "False\n"
     ]
    }
   ],
   "source": [
    "#find duplicates in rows \n",
    "dup1=data_frame. duplicated(). any()\n",
    "print(dup1)\n",
    "#no duplicates to remove"
   ]
  },
  {
   "cell_type": "code",
   "execution_count": 152,
   "metadata": {},
   "outputs": [],
   "source": [
    "#filter unwanted outliers in run time\n",
    "#using the interquartile range method (IQR): \n",
    "#sorting in ascneding order the run times\n",
    "train_set= train_set.sort_values('AverageRunTime')\n",
    "test_set=test_set.sort_values('AverageRunTime')\n",
    "IQR_df=iqr(data_frame['AverageRunTime'], axis=0)\n",
    "Q1_median_Q3= np.percentile(data_frame.AverageRunTime, [25, 50, 75])\n",
    "Q1= Q1_median_Q3[0] \n",
    "Q3= Q1_median_Q3[2]\n",
    "min_val= Q1-1.5*IQR_df\n",
    "max_val= Q3+1.5*IQR_df \n",
    "data_frame= data_frame[data_frame['AverageRunTime']>min_val]\n",
    "data_frame= data_frame[data_frame['AverageRunTime']< max_val]"
   ]
  },
  {
   "cell_type": "code",
   "execution_count": 156,
   "metadata": {},
   "outputs": [
    {
     "data": {
      "text/html": [
       "<div>\n",
       "<style scoped>\n",
       "    .dataframe tbody tr th:only-of-type {\n",
       "        vertical-align: middle;\n",
       "    }\n",
       "\n",
       "    .dataframe tbody tr th {\n",
       "        vertical-align: top;\n",
       "    }\n",
       "\n",
       "    .dataframe thead th {\n",
       "        text-align: right;\n",
       "    }\n",
       "</style>\n",
       "<table border=\"1\" class=\"dataframe\">\n",
       "  <thead>\n",
       "    <tr style=\"text-align: right;\">\n",
       "      <th></th>\n",
       "      <th>MWG</th>\n",
       "      <th>NWG</th>\n",
       "      <th>KWG</th>\n",
       "      <th>MDIMC</th>\n",
       "      <th>NDIMC</th>\n",
       "      <th>MDIMA</th>\n",
       "      <th>NDIMB</th>\n",
       "      <th>KWI</th>\n",
       "      <th>VWM</th>\n",
       "      <th>VWN</th>\n",
       "      <th>STRM</th>\n",
       "      <th>STRN</th>\n",
       "      <th>SA</th>\n",
       "      <th>SB</th>\n",
       "      <th>AverageRunTime</th>\n",
       "    </tr>\n",
       "  </thead>\n",
       "  <tbody>\n",
       "    <tr>\n",
       "      <td>count</td>\n",
       "      <td>214833.000000</td>\n",
       "      <td>214833.000000</td>\n",
       "      <td>214833.000000</td>\n",
       "      <td>214833.000000</td>\n",
       "      <td>214833.000000</td>\n",
       "      <td>214833.000000</td>\n",
       "      <td>214833.000000</td>\n",
       "      <td>214833.000000</td>\n",
       "      <td>214833.000000</td>\n",
       "      <td>214833.000000</td>\n",
       "      <td>214833.000000</td>\n",
       "      <td>214833.000000</td>\n",
       "      <td>214833.000000</td>\n",
       "      <td>214833.000000</td>\n",
       "      <td>214833.000000</td>\n",
       "    </tr>\n",
       "    <tr>\n",
       "      <td>mean</td>\n",
       "      <td>75.688037</td>\n",
       "      <td>75.761619</td>\n",
       "      <td>25.592567</td>\n",
       "      <td>14.475690</td>\n",
       "      <td>14.470700</td>\n",
       "      <td>17.390550</td>\n",
       "      <td>17.388762</td>\n",
       "      <td>5.005544</td>\n",
       "      <td>2.339538</td>\n",
       "      <td>2.345156</td>\n",
       "      <td>0.500580</td>\n",
       "      <td>0.500044</td>\n",
       "      <td>0.486038</td>\n",
       "      <td>0.485056</td>\n",
       "      <td>0.723438</td>\n",
       "    </tr>\n",
       "    <tr>\n",
       "      <td>std</td>\n",
       "      <td>41.968313</td>\n",
       "      <td>41.997377</td>\n",
       "      <td>7.839899</td>\n",
       "      <td>8.111065</td>\n",
       "      <td>8.111264</td>\n",
       "      <td>9.375134</td>\n",
       "      <td>9.374445</td>\n",
       "      <td>3.000002</td>\n",
       "      <td>1.858623</td>\n",
       "      <td>1.862122</td>\n",
       "      <td>0.500001</td>\n",
       "      <td>0.500001</td>\n",
       "      <td>0.499806</td>\n",
       "      <td>0.499778</td>\n",
       "      <td>0.071887</td>\n",
       "    </tr>\n",
       "    <tr>\n",
       "      <td>min</td>\n",
       "      <td>16.000000</td>\n",
       "      <td>16.000000</td>\n",
       "      <td>16.000000</td>\n",
       "      <td>8.000000</td>\n",
       "      <td>8.000000</td>\n",
       "      <td>8.000000</td>\n",
       "      <td>8.000000</td>\n",
       "      <td>2.000000</td>\n",
       "      <td>1.000000</td>\n",
       "      <td>1.000000</td>\n",
       "      <td>0.000000</td>\n",
       "      <td>0.000000</td>\n",
       "      <td>0.000000</td>\n",
       "      <td>0.000000</td>\n",
       "      <td>0.487856</td>\n",
       "    </tr>\n",
       "    <tr>\n",
       "      <td>25%</td>\n",
       "      <td>32.000000</td>\n",
       "      <td>32.000000</td>\n",
       "      <td>16.000000</td>\n",
       "      <td>8.000000</td>\n",
       "      <td>8.000000</td>\n",
       "      <td>8.000000</td>\n",
       "      <td>8.000000</td>\n",
       "      <td>2.000000</td>\n",
       "      <td>1.000000</td>\n",
       "      <td>1.000000</td>\n",
       "      <td>0.000000</td>\n",
       "      <td>0.000000</td>\n",
       "      <td>0.000000</td>\n",
       "      <td>0.000000</td>\n",
       "      <td>0.667080</td>\n",
       "    </tr>\n",
       "    <tr>\n",
       "      <td>50%</td>\n",
       "      <td>64.000000</td>\n",
       "      <td>64.000000</td>\n",
       "      <td>32.000000</td>\n",
       "      <td>16.000000</td>\n",
       "      <td>16.000000</td>\n",
       "      <td>16.000000</td>\n",
       "      <td>16.000000</td>\n",
       "      <td>8.000000</td>\n",
       "      <td>2.000000</td>\n",
       "      <td>2.000000</td>\n",
       "      <td>1.000000</td>\n",
       "      <td>1.000000</td>\n",
       "      <td>0.000000</td>\n",
       "      <td>0.000000</td>\n",
       "      <td>0.717173</td>\n",
       "    </tr>\n",
       "    <tr>\n",
       "      <td>75%</td>\n",
       "      <td>128.000000</td>\n",
       "      <td>128.000000</td>\n",
       "      <td>32.000000</td>\n",
       "      <td>16.000000</td>\n",
       "      <td>16.000000</td>\n",
       "      <td>32.000000</td>\n",
       "      <td>32.000000</td>\n",
       "      <td>8.000000</td>\n",
       "      <td>4.000000</td>\n",
       "      <td>4.000000</td>\n",
       "      <td>1.000000</td>\n",
       "      <td>1.000000</td>\n",
       "      <td>1.000000</td>\n",
       "      <td>1.000000</td>\n",
       "      <td>0.790950</td>\n",
       "    </tr>\n",
       "    <tr>\n",
       "      <td>max</td>\n",
       "      <td>128.000000</td>\n",
       "      <td>128.000000</td>\n",
       "      <td>32.000000</td>\n",
       "      <td>32.000000</td>\n",
       "      <td>32.000000</td>\n",
       "      <td>32.000000</td>\n",
       "      <td>32.000000</td>\n",
       "      <td>8.000000</td>\n",
       "      <td>8.000000</td>\n",
       "      <td>8.000000</td>\n",
       "      <td>1.000000</td>\n",
       "      <td>1.000000</td>\n",
       "      <td>1.000000</td>\n",
       "      <td>1.000000</td>\n",
       "      <td>0.848309</td>\n",
       "    </tr>\n",
       "  </tbody>\n",
       "</table>\n",
       "</div>"
      ],
      "text/plain": [
       "                 MWG            NWG            KWG          MDIMC  \\\n",
       "count  214833.000000  214833.000000  214833.000000  214833.000000   \n",
       "mean       75.688037      75.761619      25.592567      14.475690   \n",
       "std        41.968313      41.997377       7.839899       8.111065   \n",
       "min        16.000000      16.000000      16.000000       8.000000   \n",
       "25%        32.000000      32.000000      16.000000       8.000000   \n",
       "50%        64.000000      64.000000      32.000000      16.000000   \n",
       "75%       128.000000     128.000000      32.000000      16.000000   \n",
       "max       128.000000     128.000000      32.000000      32.000000   \n",
       "\n",
       "               NDIMC          MDIMA          NDIMB            KWI  \\\n",
       "count  214833.000000  214833.000000  214833.000000  214833.000000   \n",
       "mean       14.470700      17.390550      17.388762       5.005544   \n",
       "std         8.111264       9.375134       9.374445       3.000002   \n",
       "min         8.000000       8.000000       8.000000       2.000000   \n",
       "25%         8.000000       8.000000       8.000000       2.000000   \n",
       "50%        16.000000      16.000000      16.000000       8.000000   \n",
       "75%        16.000000      32.000000      32.000000       8.000000   \n",
       "max        32.000000      32.000000      32.000000       8.000000   \n",
       "\n",
       "                 VWM            VWN           STRM           STRN  \\\n",
       "count  214833.000000  214833.000000  214833.000000  214833.000000   \n",
       "mean        2.339538       2.345156       0.500580       0.500044   \n",
       "std         1.858623       1.862122       0.500001       0.500001   \n",
       "min         1.000000       1.000000       0.000000       0.000000   \n",
       "25%         1.000000       1.000000       0.000000       0.000000   \n",
       "50%         2.000000       2.000000       1.000000       1.000000   \n",
       "75%         4.000000       4.000000       1.000000       1.000000   \n",
       "max         8.000000       8.000000       1.000000       1.000000   \n",
       "\n",
       "                  SA             SB  AverageRunTime  \n",
       "count  214833.000000  214833.000000   214833.000000  \n",
       "mean        0.486038       0.485056        0.723438  \n",
       "std         0.499806       0.499778        0.071887  \n",
       "min         0.000000       0.000000        0.487856  \n",
       "25%         0.000000       0.000000        0.667080  \n",
       "50%         0.000000       0.000000        0.717173  \n",
       "75%         1.000000       1.000000        0.790950  \n",
       "max         1.000000       1.000000        0.848309  "
      ]
     },
     "execution_count": 156,
     "metadata": {},
     "output_type": "execute_result"
    }
   ],
   "source": [
    "data_frame.describe()"
   ]
  },
  {
   "cell_type": "code",
   "execution_count": 153,
   "metadata": {},
   "outputs": [
    {
     "data": {
      "text/plain": [
       "<matplotlib.axes._subplots.AxesSubplot at 0x26a8f1b2608>"
      ]
     },
     "execution_count": 153,
     "metadata": {},
     "output_type": "execute_result"
    },
    {
     "data": {
      "image/png": "[encoded data removed]",
      "text/plain": [
       "<Figure size 432x288 with 1 Axes>"
      ]
     },
     "metadata": {
      "needs_background": "light"
     },
     "output_type": "display_data"
    }
   ],
   "source": [
    "sbn.distplot(data_frame['AverageRunTime'])"
   ]
  },
  {
   "cell_type": "code",
   "execution_count": 154,
   "metadata": {
    "scrolled": true
   },
   "outputs": [
    {
     "data": {
      "text/plain": [
       "<matplotlib.axes._subplots.AxesSubplot at 0x26a8f458dc8>"
      ]
     },
     "execution_count": 154,
     "metadata": {},
     "output_type": "execute_result"
    },
    {
     "data": {
      "image/png": "[encoded data removed]",
      "text/plain": [
       "<Figure size 432x288 with 1 Axes>"
      ]
     },
     "metadata": {
      "needs_background": "light"
     },
     "output_type": "display_data"
    }
   ],
   "source": [
    "#The data distribution is skewed to the left. Preforming a box cox transformation. finding optimal lambda using seaborn \n",
    "#non normally distributed data will affect the SE and confidence interval \n",
    "df1= data_frame\n",
    "df1['AverageRunTime']= boxcox(data_frame['AverageRunTime'])[0]\n",
    "sbn.distplot(df1['AverageRunTime'])"
   ]
  },
  {
   "cell_type": "code",
   "execution_count": 161,
   "metadata": {},
   "outputs": [
    {
     "data": {
      "text/plain": [
       "<matplotlib.axes._subplots.AxesSubplot at 0x26a8fedf1c8>"
      ]
     },
     "execution_count": 161,
     "metadata": {},
     "output_type": "execute_result"
    },
    {
     "data": {
      "image/png": "[encoded data removed]",
      "text/plain": [
       "<Figure size 432x288 with 1 Axes>"
      ]
     },
     "metadata": {
      "needs_background": "light"
     },
     "output_type": "display_data"
    }
   ],
   "source": [
    "#box cox transformation did not normalize the data. Trying to normalize the data using a log-log \n",
    "df2=data_frame\n",
    "df2['AverageRunTime'] = np.log(df2['AverageRunTime'])\n",
    "sbn.distplot(df2['AverageRunTime'])"
   ]
  },
  {
   "cell_type": "markdown",
   "metadata": {},
   "source": [
    "Data splitting- Train set and Test set "
   ]
  },
  {
   "cell_type": "code",
   "execution_count": 172,
   "metadata": {},
   "outputs": [],
   "source": [
    "train_set, test_set = train_test_split(data_frame, test_size=0.6)\n",
    "#We will work with an average as the run time output variable "
   ]
  },
  {
   "cell_type": "markdown",
   "metadata": {},
   "source": [
    "Applying ML algorithms on the data set"
   ]
  },
  {
   "cell_type": "code",
   "execution_count": 173,
   "metadata": {
    "scrolled": true
   },
   "outputs": [
    {
     "name": "stdout",
     "output_type": "stream",
     "text": [
      "['MWG', 'NWG', 'KWG', 'MDIMC', 'NDIMC', 'MDIMA', 'NDIMB', 'KWI', 'VWM', 'VWN', 'STRM', 'STRN', 'SA', 'SB']\n"
     ]
    }
   ],
   "source": [
    "column_header= list(train_set.columns)\n",
    "column_header=column_header[0:len(column_header)-1]\n",
    "print(column_header)"
   ]
  },
  {
   "cell_type": "code",
   "execution_count": 174,
   "metadata": {},
   "outputs": [],
   "source": [
    "#we will train our algorithm \n",
    "#building a multivariate regression model using scikit library \n",
    "reg= linear_model. LinearRegression () #creating linear regression class object \n",
    "reg1= reg.fit(train_set[['MWG', 'NWG', 'KWG', 'MDIMC', 'NDIMC', 'MDIMA', 'NDIMB', 'KWI', 'VWM', 'VWN', 'STRM', 'STRN', 'SA', 'SB']], train_set.AverageRunTime) #fit method to train the model "
   ]
  },
  {
   "cell_type": "code",
   "execution_count": 190,
   "metadata": {},
   "outputs": [
    {
     "data": {
      "text/plain": [
       "array([ 0.00271779,  0.00205894,  0.00269766, -0.01130307, -0.01098946,\n",
       "       -0.00022413, -0.00029669, -0.00117792, -0.00242676, -0.00629139,\n",
       "       -0.03264086, -0.00506023, -0.05127166, -0.01638056])"
      ]
     },
     "execution_count": 190,
     "metadata": {},
     "output_type": "execute_result"
    }
   ],
   "source": [
    "reg.coef_"
   ]
  },
  {
   "cell_type": "code",
   "execution_count": 176,
   "metadata": {},
   "outputs": [
    {
     "data": {
      "text/plain": [
       "1.450187616591165"
      ]
     },
     "execution_count": 176,
     "metadata": {},
     "output_type": "execute_result"
    }
   ],
   "source": [
    "reg.intercept_"
   ]
  },
  {
   "cell_type": "code",
   "execution_count": 189,
   "metadata": {},
   "outputs": [
    {
     "name": "stdout",
     "output_type": "stream",
     "text": [
      "Accuracy of the model is 53.31\n"
     ]
    },
    {
     "data": {
      "text/plain": [
       "Text(0, 0.5, 'Predicted Values')"
      ]
     },
     "execution_count": 189,
     "metadata": {},
     "output_type": "execute_result"
    },
    {
     "data": {
      "image/png": "[encoded data removed]",
      "text/plain": [
       "<Figure size 432x288 with 1 Axes>"
      ]
     },
     "metadata": {
      "needs_background": "light"
     },
     "output_type": "display_data"
    }
   ],
   "source": [
    "y_pred=reg.predict (train_set[['MWG', 'NWG', 'KWG', 'MDIMC', 'NDIMC', 'MDIMA', 'NDIMB', 'KWI', 'VWM', 'VWN', 'STRM', 'STRN', 'SA', 'SB']])\n",
    "Accuracy= r2_score(train_set['AverageRunTime'], y_pred)*100\n",
    "print(\"Accuracy of the model is %.2f\" %Accuracy)\n",
    "plt.scatter (train_set['AverageRunTime'], y_pred)\n",
    "plt.xlabel('Real Values')\n",
    "plt.ylabel ('Predicted Values')"
   ]
  },
  {
   "cell_type": "code",
   "execution_count": null,
   "metadata": {},
   "outputs": [],
   "source": [
    "train_set2, test_set2 = train_test_split(data_frame, test_size=0.6)\n",
    "#We will work with an average as the run time output variable "
   ]
  }
 ],
 "metadata": {
  "kernelspec": {
   "display_name": "Python 3",
   "language": "python",
   "name": "python3"
  },
  "language_info": {
   "codemirror_mode": {
    "name": "ipython",
    "version": 3
   },
   "file_extension": ".py",
   "mimetype": "text/x-python",
   "name": "python",
   "nbconvert_exporter": "python",
   "pygments_lexer": "ipython3",
   "version": "3.7.4"
  }
 },
 "nbformat": 4,
 "nbformat_minor": 5
}
